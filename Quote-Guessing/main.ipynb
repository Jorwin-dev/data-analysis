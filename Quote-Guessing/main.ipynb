{
 "cells": [
  {
   "cell_type": "markdown",
   "metadata": {},
   "source": [
    "**Quote Guessing Game Built with Python**"
   ]
  },
  {
   "cell_type": "markdown",
   "metadata": {},
   "source": [
    "---"
   ]
  },
  {
   "cell_type": "markdown",
   "metadata": {},
   "source": [
    "First we import necessary libraries"
   ]
  },
  {
   "cell_type": "code",
   "execution_count": 3,
   "metadata": {},
   "outputs": [
    {
     "data": {
      "text/plain": [
       "'\\nfrom _ import \\nfrom _ import\\nfrom _ import \\nfrom _ import\\n'"
      ]
     },
     "execution_count": 3,
     "metadata": {},
     "output_type": "execute_result"
    }
   ],
   "source": [
    "import requests\n",
    "from bs4 import BeautifulSoup\n",
    "from csv import writer\n",
    "from time import sleep\n",
    "from random import choice"
   ]
  },
  {
   "cell_type": "markdown",
   "metadata": {},
   "source": [
    "Now the code for the game:"
   ]
  },
  {
   "cell_type": "code",
   "execution_count": 7,
   "metadata": {},
   "outputs": [
    {
     "name": "stdout",
     "output_type": "stream",
     "text": [
      "Now Scrapinghttps://quotes.toscrape.com//page/1\n",
      "Here's a quote: \n",
      "“Imperfection is beauty, madness is genius and it's better to be absolutely ridiculous than absolutely boring.”\n",
      "Here's a hint: The author was born on June 01, 1926in The United States\n",
      "Here's a hint: The author's first name starts with: M\n",
      "Here's a hint: The author's last name starts with: M\n",
      "CONGRATULATIONS! YOU GOT IT RIGHT\n"
     ]
    }
   ],
   "source": [
    "# lists to score scraped data\n",
    "all_quotes = []\n",
    "\n",
    "# this part of the url is constant\n",
    "base_url = \"https://quotes.toscrape.com/\"\n",
    "\n",
    "# this part of the url will continue to change\n",
    "url = \"/page/1\"\n",
    "\n",
    "while url:\n",
    "\n",
    "    # concatenating both urls & making requests\n",
    "    res = requests.get(f\"{base_url}{url}\")\n",
    "    print(f\"Now Scraping{base_url}{url}\")\n",
    "    soup = BeautifulSoup(res.text, \"html.parser\")\n",
    "\n",
    "    # extracting all elements\n",
    "    quotes = soup.find_all(class_=\"quote\")\n",
    "\n",
    "    for quote in quotes:\n",
    "        all_quotes.append({\n",
    "            \"text\": quote.find(class_=\"text\").get_text(),\n",
    "            \"author\": quote.find(class_=\"author\").get_text(),\n",
    "            \"bio-link\": quote.find(\"a\")[\"href\"]            \n",
    "        })\n",
    "    next_btn = soup.find(_class=\"next\")\n",
    "    url = next_btn.find(\"a\")[\"href\"] if next_btn else None\n",
    "    sleep(2)\n",
    "\n",
    "quote = choice(all_quotes)\n",
    "remaining_guesses = 4\n",
    "print(\"Here's a quote: \")\n",
    "print(quote[\"text\"])\n",
    "\n",
    "guess = ''\n",
    "while guess.lower() != quote[\"author\"].lower() and remaining_guesses > 0:\n",
    "    guess = input (f\"Who said this quote? Guesses remaining {remaining_guesses}\")\n",
    "\n",
    "    if guess == quote[\"author\"]:\n",
    "        print(\"CONGRATULATIONS! YOU GOT IT RIGHT\")\n",
    "        break\n",
    "    remaining_guesses -= 1\n",
    "\n",
    "    if remaining_guesses == 3:\n",
    "        res = requests.get(f\"{base_url}{quote['bio-link']}\")\n",
    "        soup = BeautifulSoup(res.text, \"html.parser\")\n",
    "        birth_date = soup.find(class_=\"author-born-date\").get_text()\n",
    "        birth_place = soup.find(class_=\"author-born-location\").get_text()\n",
    "        print(f\"Here's a hint: The author was born on {birth_date}{birth_place}\")\n",
    "\n",
    "    elif remaining_guesses == 2:\n",
    "        print(f\"Here's a hint: The author's first name starts with: {quote['author'][0]}\")\n",
    "\n",
    "    elif remaining_guesses == 1:\n",
    "        last_initial = quote[\"author\"].split(\" \")[1][0] \n",
    "        print(f\"Here's a hint: The author's last name starts with: {last_initial}\")\n",
    "\n",
    "    else:\n",
    "        print(f\"Sorry, you ran out of guesses. The answer was {quote['author']}\")  "
   ]
  },
  {
   "cell_type": "markdown",
   "metadata": {},
   "source": [
    "**Time Complexity:** The time complexity is **O(N)** because the while loop is iterating over the quotes list N times."
   ]
  },
  {
   "cell_type": "markdown",
   "metadata": {},
   "source": [
    "**Space Complexity:** The space complexity of this code is **O(N)** because the all_quotes list is storing N number of elements."
   ]
  }
 ],
 "metadata": {
  "kernelspec": {
   "display_name": "Python 3",
   "language": "python",
   "name": "python3"
  },
  "language_info": {
   "codemirror_mode": {
    "name": "ipython",
    "version": 3
   },
   "file_extension": ".py",
   "mimetype": "text/x-python",
   "name": "python",
   "nbconvert_exporter": "python",
   "pygments_lexer": "ipython3",
   "version": "3.11.9"
  }
 },
 "nbformat": 4,
 "nbformat_minor": 2
}
