{
 "cells": [
  {
   "cell_type": "markdown",
   "metadata": {},
   "source": [
    "**Web Scraping From Wikipedia Using Python**"
   ]
  },
  {
   "cell_type": "markdown",
   "metadata": {},
   "source": [
    "---"
   ]
  },
  {
   "cell_type": "markdown",
   "metadata": {},
   "source": [
    "Essential project to understand web scraping as a whole. The goal is to scrape data from the Wikipedia home page and parse it through various  web scraping techniques. "
   ]
  },
  {
   "cell_type": "markdown",
   "metadata": {},
   "source": [
    "Various web scraping techniques, python modules for web scraping, and processes of Data extraction/processing will be tackled through this project."
   ]
  },
  {
   "cell_type": "markdown",
   "metadata": {},
   "source": [
    "---"
   ]
  },
  {
   "cell_type": "markdown",
   "metadata": {},
   "source": [
    "**Understanding The Essentials**"
   ]
  },
  {
   "cell_type": "markdown",
   "metadata": {},
   "source": [
    "**What is Web Scraping:** It is a technique/process in which large amounts of data from a large number of websites is passed through a web scraping software coded in a programming language of choice. "
   ]
  },
  {
   "cell_type": "markdown",
   "metadata": {},
   "source": [
    "As a result, the structured data is extracted which can be saved locally in our devices, preferably in Excel sheets, JSON or spreadsheets."
   ]
  },
  {
   "cell_type": "markdown",
   "metadata": {},
   "source": [
    "It removes the need to manually copy and paste data from websites, and instead use the a scraper to perform that task in a few seconds. "
   ]
  }
 ],
 "metadata": {
  "language_info": {
   "name": "python"
  }
 },
 "nbformat": 4,
 "nbformat_minor": 2
}
